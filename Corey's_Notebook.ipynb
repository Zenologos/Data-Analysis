{
  "nbformat": 4,
  "nbformat_minor": 0,
  "metadata": {
    "colab": {
      "name": "Corey's-Notebook.ipynb",
      "provenance": [],
      "authorship_tag": "ABX9TyN3cmhEZBDUtpxNZ+xfLpp1",
      "include_colab_link": true
    },
    "kernelspec": {
      "name": "python3",
      "display_name": "Python 3"
    }
  },
  "cells": [
    {
      "cell_type": "markdown",
      "metadata": {
        "id": "view-in-github",
        "colab_type": "text"
      },
      "source": [
        "<a href=\"https://colab.research.google.com/github/Zenologos/Data-Analysis/blob/master/Corey's_Notebook.ipynb\" target=\"_parent\"><img src=\"https://colab.research.google.com/assets/colab-badge.svg\" alt=\"Open In Colab\"/></a>"
      ]
    },
    {
      "cell_type": "code",
      "metadata": {
        "id": "9Y3LH4ni-xzP",
        "colab_type": "code",
        "colab": {
          "base_uri": "https://localhost:8080/",
          "height": 224
        },
        "outputId": "17bead6e-35da-42ad-fa7a-48d4dc71c198"
      },
      "source": [
        "import numpy as np\n",
        "import pandas as pd\n",
        "\n",
        "# Program to find the ASCII value of Hello\n",
        "\n",
        "H = 'H'\n",
        "E = 'e'\n",
        "L = 'l'\n",
        "O = 'o'\n",
        "\n",
        "print(\"The ASCII value of '\" + H + E + L + L + O +\"' is\", ord(H),ord(E),ord(L),ord(L),ord(O))\n",
        "\n",
        "# Using Numpy to interpret an array \n",
        "arr = np.array( [[ 1, 2, 3], \n",
        "                 [ 4, 2, 5]] ) \n",
        "  \n",
        "# Printing type of arr object \n",
        "print(\"Array is of type: \", type(arr)) \n",
        "  \n",
        "# Printing array dimensions (axes) \n",
        "print(\"No. of dimensions: \", arr.ndim)\n",
        "\n",
        "# Using Pandas to generate a grid\n",
        "data = {\n",
        "    'apples': [3, 2, 0, 1], \n",
        "    'oranges': [0, 3, 7, 2]\n",
        "}\n",
        "purchases = pd.DataFrame(data)\n",
        "purchases = pd.DataFrame(data, index=['Black Panther', 'Iron Man', 'Wonder Woman', 'Hulk'])\n",
        "purchases\n",
        "\n"
      ],
      "execution_count": null,
      "outputs": [
        {
          "output_type": "stream",
          "text": [
            "The ASCII value of 'Hello' is 72 101 108 108 111\n",
            "Array is of type:  <class 'numpy.ndarray'>\n",
            "No. of dimensions:  2\n"
          ],
          "name": "stdout"
        },
        {
          "output_type": "execute_result",
          "data": {
            "text/html": [
              "<div>\n",
              "<style scoped>\n",
              "    .dataframe tbody tr th:only-of-type {\n",
              "        vertical-align: middle;\n",
              "    }\n",
              "\n",
              "    .dataframe tbody tr th {\n",
              "        vertical-align: top;\n",
              "    }\n",
              "\n",
              "    .dataframe thead th {\n",
              "        text-align: right;\n",
              "    }\n",
              "</style>\n",
              "<table border=\"1\" class=\"dataframe\">\n",
              "  <thead>\n",
              "    <tr style=\"text-align: right;\">\n",
              "      <th></th>\n",
              "      <th>apples</th>\n",
              "      <th>oranges</th>\n",
              "    </tr>\n",
              "  </thead>\n",
              "  <tbody>\n",
              "    <tr>\n",
              "      <th>Black Panther</th>\n",
              "      <td>3</td>\n",
              "      <td>0</td>\n",
              "    </tr>\n",
              "    <tr>\n",
              "      <th>Iron Man</th>\n",
              "      <td>2</td>\n",
              "      <td>3</td>\n",
              "    </tr>\n",
              "    <tr>\n",
              "      <th>Wonder Woman</th>\n",
              "      <td>0</td>\n",
              "      <td>7</td>\n",
              "    </tr>\n",
              "    <tr>\n",
              "      <th>Hulk</th>\n",
              "      <td>1</td>\n",
              "      <td>2</td>\n",
              "    </tr>\n",
              "  </tbody>\n",
              "</table>\n",
              "</div>"
            ],
            "text/plain": [
              "               apples  oranges\n",
              "Black Panther       3        0\n",
              "Iron Man            2        3\n",
              "Wonder Woman        0        7\n",
              "Hulk                1        2"
            ]
          },
          "metadata": {
            "tags": []
          },
          "execution_count": 2
        }
      ]
    },
    {
      "cell_type": "code",
      "metadata": {
        "id": "9zFBrsHs_6YV",
        "colab_type": "code",
        "colab": {}
      },
      "source": [
        ""
      ],
      "execution_count": null,
      "outputs": []
    }
  ]
}